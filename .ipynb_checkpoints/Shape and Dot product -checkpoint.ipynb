{
 "cells": [
  {
   "cell_type": "markdown",
   "metadata": {},
   "source": [
    "# Shape:\n",
    "\n",
    "---"
   ]
  },
  {
   "cell_type": "markdown",
   "metadata": {},
   "source": [
    "## Motivation\n",
    "\n",
    "> Understanding shape in numpy will be one of the fundamental things that allows us to begin using more powerful tools like numpy to build our NN and will be useful for debugging in the future. \n",
    "\n",
    "* [np.shape Decumentation](https://numpy.org/devdocs/reference/generated/numpy.shape.html)\n",
    "\n",
    "One way to think about shape is at each dimension whats the size? Lets begin by looking at a simple python list."
   ]
  },
  {
   "cell_type": "code",
   "execution_count": 5,
   "metadata": {},
   "outputs": [
    {
     "name": "stdout",
     "output_type": "stream",
     "text": [
      "(4,)\n"
     ]
    }
   ],
   "source": [
    "import numpy as np\n",
    "\n",
    "list = [1,2,3,4]\n",
    "\n",
    "print(np.shape(list))"
   ]
  },
  {
   "cell_type": "markdown",
   "metadata": {},
   "source": [
    "> You may at first think that this is a strange result. From a math point of view [1,2,3,4] looks exactly like a row vactor with 1 row and 1 column, However in numpy Arrays are treated a little different because of thier [implamentation](https://stackoverflow.com/questions/22053050/difference-between-numpy-array-shape-r-1-and-r). Because this list has only a single index we call it a 1D array which is an array with only one dimension, thus it does not make sense to talk about its second dimension. \n",
    "\n",
    "Syntatically we can add a dimension by enclosing the list in another list."
   ]
  },
  {
   "cell_type": "code",
   "execution_count": 6,
   "metadata": {},
   "outputs": [
    {
     "name": "stdout",
     "output_type": "stream",
     "text": [
      "(1, 4)\n"
     ]
    }
   ],
   "source": [
    "list = np.array([[1,2,3,4]])\n",
    "\n",
    "print(np.shape(list))"
   ]
  },
  {
   "cell_type": "markdown",
   "metadata": {},
   "source": [
    "This should start to make sense now, the outer list contains 1 element and the inner list contains 4 hence our shape is (1, 4). \n",
    "\n",
    "I encourage you to play around with this example below to see how shape changes as you add more lists and change the number of elements.\n",
    "* What happens if you remove one of the elements of the inner lists but not the other? Why?"
   ]
  },
  {
   "cell_type": "code",
   "execution_count": 9,
   "metadata": {},
   "outputs": [
    {
     "name": "stdout",
     "output_type": "stream",
     "text": [
      "(2, 4)\n"
     ]
    }
   ],
   "source": [
    "list = np.array([[1,2,3,4],\n",
    "                 [1,2,3,4]])\n",
    "\n",
    "print(np.shape(list))"
   ]
  },
  {
   "cell_type": "markdown",
   "metadata": {},
   "source": [
    "# Dot Product:\n",
    "---"
   ]
  },
  {
   "cell_type": "code",
   "execution_count": null,
   "metadata": {},
   "outputs": [],
   "source": []
  }
 ],
 "metadata": {
  "kernelspec": {
   "display_name": "Python 3",
   "language": "python",
   "name": "python3"
  },
  "language_info": {
   "codemirror_mode": {
    "name": "ipython",
    "version": 3
   },
   "file_extension": ".py",
   "mimetype": "text/x-python",
   "name": "python",
   "nbconvert_exporter": "python",
   "pygments_lexer": "ipython3",
   "version": "3.7.4"
  }
 },
 "nbformat": 4,
 "nbformat_minor": 2
}

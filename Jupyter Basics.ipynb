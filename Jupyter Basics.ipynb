{
 "cells": [
  {
   "cell_type": "markdown",
   "metadata": {},
   "source": [
    "# Jupyter Basics: \n",
    "-----"
   ]
  },
  {
   "cell_type": "markdown",
   "metadata": {},
   "source": [
    "## Table of Contents\n",
    "\n",
    "* [KeyBoard Modes and Shortcuts](#part1).\n",
    "* [Markdown](#part2).\n",
    "\n",
    " "
   ]
  },
  {
   "cell_type": "markdown",
   "metadata": {},
   "source": [
    "<a id='part1'></a>\n",
    "\n",
    "## KeyBoard Modes and Shortcuts\n",
    "\n",
    "> The Jupyter Notebook has two different keyboard input modes. By default a selected cell will be in EDIT mode. This allows you to type code or text into a cell and is indicated by a GREEN cell border. You can enter COMMAND mode by pressing the ESC key. This binds the keyboard to notebook level commands and is indicated by a grey cell border with a BLUE left margin.\n",
    "\n",
    "> To see a list of keyboard shourtcuts enter COMMAND mode and press h. Here you can also edit shorcuts. Note: read the text at the bottom of the edit shortcuts page before making your own. Try it out on the empty cell below!"
   ]
  },
  {
   "cell_type": "code",
   "execution_count": 4,
   "metadata": {},
   "outputs": [],
   "source": [
    "#select this cell press ESC-H to open help menu"
   ]
  },
  {
   "cell_type": "markdown",
   "metadata": {},
   "source": [
    "-----"
   ]
  },
  {
   "cell_type": "markdown",
   "metadata": {},
   "source": [
    "<a id='part2'></a>\n",
    "## Markdown\n",
    "\n",
    "> To make text boxes like this, you first have to change the cell type to markdown which can be done in two ways; first by selecting a given cell and pressing ESC-M or by choosing markdown from the dropdown menu at the top of the screen below Widgets and Help. You can begin using markdown to make cool text like this! Select this box and press ENTER to see the markdown used. Below I have complied a list of useful refrences for the syntax:\n",
    "\n",
    "* [Creators Website](https://daringfireball.net/projects/markdown/syntax#link)\n",
    "* [A Helpful Blog](https://www.datacamp.com/community/tutorials/markdown-in-jupyter-notebook)\n",
    "-----"
   ]
  },
  {
   "cell_type": "code",
   "execution_count": null,
   "metadata": {},
   "outputs": [],
   "source": []
  }
 ],
 "metadata": {
  "kernelspec": {
   "display_name": "Python 3",
   "language": "python",
   "name": "python3"
  },
  "language_info": {
   "codemirror_mode": {
    "name": "ipython",
    "version": 3
   },
   "file_extension": ".py",
   "mimetype": "text/x-python",
   "name": "python",
   "nbconvert_exporter": "python",
   "pygments_lexer": "ipython3",
   "version": "3.7.4"
  }
 },
 "nbformat": 4,
 "nbformat_minor": 2
}
